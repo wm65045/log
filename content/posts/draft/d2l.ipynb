{
 "cells": [
  {
   "cell_type": "code",
   "execution_count": 1,
   "metadata": {},
   "outputs": [
    {
     "name": "stdout",
     "output_type": "stream",
     "text": [
      "hello\n"
     ]
    }
   ],
   "source": [
    "print(\"hello\")"
   ]
  },
  {
   "cell_type": "markdown",
   "metadata": {},
   "source": [
    "## 前置要求\n",
    "\n",
    "同学问：深度学习的学习路径？\n",
    "\n",
    "李沐的回答：编程，统计，线性代数是基础。然后机器学习，再深度学习\n",
    "\n",
    "某同学的回答：我觉得你可以先学数分，线代，概统这三门课，这三门课学完以后机器学习大部分的推导你应该是能看懂的。然后你可以根据需要，选择直接开始学机器学习(传统的那些东西)，还是继续学一些优化，多元统计，线性回归，随机过程等统计理论的课(取决于你以后要干嘛，搞研究的话先把这些理论的课弄清楚，上班的话直接开始机器学习就好了）。深度学习(李老师这门课)我觉得可以在你学机器学习的同时开始学，但是李老师视频有点简略，细节不多。你可以李沐李宏毅两个课一起看。。至于编程是随时随地都要学的"
   ]
  },
  {
   "cell_type": "markdown",
   "metadata": {},
   "source": [
    "## 链接整理\n",
    "\n",
    "[斯坦福21秋季：实用机器学习中文版 字幕](https://space.bilibili.com/46246753/article)"
   ]
  },
  {
   "cell_type": "markdown",
   "metadata": {},
   "source": [
    "## 03 安装\n",
    "[03 视频链接](https://www.bilibili.com/video/BV18p4y1h7Dr)\n"
   ]
  },
  {
   "cell_type": "markdown",
   "metadata": {},
   "source": []
  }
 ],
 "metadata": {
  "interpreter": {
   "hash": "767d51c1340bd893661ea55ea3124f6de3c7a262a8b4abca0554b478b1e2ff90"
  },
  "kernelspec": {
   "display_name": "Python ('d2l')",
   "language": "python",
   "name": "python3"
  },
  "language_info": {
   "codemirror_mode": {
    "name": "ipython",
    "version": 3
   },
   "file_extension": ".py",
   "mimetype": "text/x-python",
   "name": "python",
   "nbconvert_exporter": "python",
   "pygments_lexer": "ipython3",
   "version": "3.10.4"
  },
  "orig_nbformat": 4
 },
 "nbformat": 4,
 "nbformat_minor": 2
}
